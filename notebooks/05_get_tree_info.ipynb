{
 "cells": [
  {
   "cell_type": "markdown",
   "metadata": {},
   "source": [
    "This notebook is to generate the information needed to annotate a phylogenetic tree with score information"
   ]
  },
  {
   "cell_type": "code",
   "execution_count": 2,
   "metadata": {
    "scrolled": true
   },
   "outputs": [
    {
     "name": "stdout",
     "output_type": "stream",
     "text": [
      "array_commands\t notebooks\t    users\r\n",
      "busco_downloads  protein_sequences  vertebrate_genomes_list.txt\r\n",
      "data\t\t raw_results\t    vertebrate_species_taxid.txt\r\n",
      "gc_content\t results\t    vertebrate_tree.txt\r\n",
      "genomes\t\t scripts\t    vert_sp_taxid.txt\r\n"
     ]
    }
   ],
   "source": [
    "! ls .."
   ]
  },
  {
   "cell_type": "code",
   "execution_count": 40,
   "metadata": {},
   "outputs": [],
   "source": [
    "sp_id_dict = {}\n",
    "sp_name_dict = {}"
   ]
  },
  {
   "cell_type": "code",
   "execution_count": 41,
   "metadata": {},
   "outputs": [],
   "source": [
    "with open('../vert_sp_taxid.txt', 'r') as myfile:\n",
    "    for i in myfile:\n",
    "        sp = i.split('\\t')[0].replace(' ','_')\n",
    "        sp_space = i.split('\\t')[0]\n",
    "        taxid = i.split('\\t')[-1].replace('\\n','')\n",
    "        sp_lower = sp.lower()\n",
    "        sp_id_dict[sp_lower] = taxid\n",
    "        sp_name_dict[sp_lower] = sp_space"
   ]
  },
  {
   "cell_type": "code",
   "execution_count": 52,
   "metadata": {},
   "outputs": [],
   "source": [
    "import pandas as pd"
   ]
  },
  {
   "cell_type": "code",
   "execution_count": 56,
   "metadata": {},
   "outputs": [],
   "source": [
    "df = pd.read_csv('../results/busco_overview_tools.csv')"
   ]
  },
  {
   "cell_type": "code",
   "execution_count": 57,
   "metadata": {},
   "outputs": [],
   "source": [
    "df['taxonID'] = df['species'].map(sp_id_dict)\n",
    "df['score'] = df['percentage']/100\n",
    "df['species_space'] = df['species'].map(sp_name_dict)"
   ]
  },
  {
   "cell_type": "code",
   "execution_count": 58,
   "metadata": {},
   "outputs": [
    {
     "data": {
      "text/html": [
       "<div>\n",
       "<style scoped>\n",
       "    .dataframe tbody tr th:only-of-type {\n",
       "        vertical-align: middle;\n",
       "    }\n",
       "\n",
       "    .dataframe tbody tr th {\n",
       "        vertical-align: top;\n",
       "    }\n",
       "\n",
       "    .dataframe thead th {\n",
       "        text-align: right;\n",
       "    }\n",
       "</style>\n",
       "<table border=\"1\" class=\"dataframe\">\n",
       "  <thead>\n",
       "    <tr style=\"text-align: right;\">\n",
       "      <th></th>\n",
       "      <th>Unnamed: 0</th>\n",
       "      <th>n_markers</th>\n",
       "      <th>domain</th>\n",
       "      <th>species</th>\n",
       "      <th>tool</th>\n",
       "      <th>gene_count</th>\n",
       "      <th>BUSCO_tag</th>\n",
       "      <th>percentage</th>\n",
       "      <th>taxonID</th>\n",
       "      <th>score</th>\n",
       "      <th>species_space</th>\n",
       "    </tr>\n",
       "  </thead>\n",
       "  <tbody>\n",
       "    <tr>\n",
       "      <th>1</th>\n",
       "      <td>1</td>\n",
       "      <td>3354</td>\n",
       "      <td>eukaryota</td>\n",
       "      <td>amphiprion_percula</td>\n",
       "      <td>geneidblastx</td>\n",
       "      <td>21336</td>\n",
       "      <td>Complete</td>\n",
       "      <td>52.9</td>\n",
       "      <td>161767</td>\n",
       "      <td>0.529</td>\n",
       "      <td>Amphiprion percula</td>\n",
       "    </tr>\n",
       "    <tr>\n",
       "      <th>7</th>\n",
       "      <td>7</td>\n",
       "      <td>3354</td>\n",
       "      <td>eukaryota</td>\n",
       "      <td>anabas_testudineus</td>\n",
       "      <td>geneidblastx</td>\n",
       "      <td>17856</td>\n",
       "      <td>Complete</td>\n",
       "      <td>50.3</td>\n",
       "      <td>64144</td>\n",
       "      <td>0.503</td>\n",
       "      <td>Anabas testudineus</td>\n",
       "    </tr>\n",
       "    <tr>\n",
       "      <th>13</th>\n",
       "      <td>13</td>\n",
       "      <td>3354</td>\n",
       "      <td>eukaryota</td>\n",
       "      <td>anas_platyrhynchos</td>\n",
       "      <td>geneidblastx</td>\n",
       "      <td>16814</td>\n",
       "      <td>Complete</td>\n",
       "      <td>51.6</td>\n",
       "      <td>8839</td>\n",
       "      <td>0.516</td>\n",
       "      <td>Anas platyrhynchos</td>\n",
       "    </tr>\n",
       "    <tr>\n",
       "      <th>19</th>\n",
       "      <td>19</td>\n",
       "      <td>3354</td>\n",
       "      <td>eukaryota</td>\n",
       "      <td>anser_brachyrhynchus</td>\n",
       "      <td>geneidblastx</td>\n",
       "      <td>14254</td>\n",
       "      <td>Complete</td>\n",
       "      <td>58.5</td>\n",
       "      <td>132585</td>\n",
       "      <td>0.585</td>\n",
       "      <td>Anser brachyrhynchus</td>\n",
       "    </tr>\n",
       "    <tr>\n",
       "      <th>25</th>\n",
       "      <td>25</td>\n",
       "      <td>3354</td>\n",
       "      <td>eukaryota</td>\n",
       "      <td>anser_cygnoides</td>\n",
       "      <td>geneidblastx</td>\n",
       "      <td>14172</td>\n",
       "      <td>Complete</td>\n",
       "      <td>57.6</td>\n",
       "      <td>8845</td>\n",
       "      <td>0.576</td>\n",
       "      <td>Anser cygnoides</td>\n",
       "    </tr>\n",
       "    <tr>\n",
       "      <th>...</th>\n",
       "      <td>...</td>\n",
       "      <td>...</td>\n",
       "      <td>...</td>\n",
       "      <td>...</td>\n",
       "      <td>...</td>\n",
       "      <td>...</td>\n",
       "      <td>...</td>\n",
       "      <td>...</td>\n",
       "      <td>...</td>\n",
       "      <td>...</td>\n",
       "      <td>...</td>\n",
       "    </tr>\n",
       "    <tr>\n",
       "      <th>601</th>\n",
       "      <td>601</td>\n",
       "      <td>3354</td>\n",
       "      <td>eukaryota</td>\n",
       "      <td>varanus_komodoensis</td>\n",
       "      <td>geneidblastx</td>\n",
       "      <td>17734</td>\n",
       "      <td>Complete</td>\n",
       "      <td>58.9</td>\n",
       "      <td>61221</td>\n",
       "      <td>0.589</td>\n",
       "      <td>Varanus komodoensis</td>\n",
       "    </tr>\n",
       "    <tr>\n",
       "      <th>607</th>\n",
       "      <td>607</td>\n",
       "      <td>3354</td>\n",
       "      <td>eukaryota</td>\n",
       "      <td>xiphophorus_couchianus</td>\n",
       "      <td>geneidblastx</td>\n",
       "      <td>18227</td>\n",
       "      <td>Complete</td>\n",
       "      <td>40.9</td>\n",
       "      <td>32473</td>\n",
       "      <td>0.409</td>\n",
       "      <td>Xiphophorus couchianus</td>\n",
       "    </tr>\n",
       "    <tr>\n",
       "      <th>613</th>\n",
       "      <td>613</td>\n",
       "      <td>3354</td>\n",
       "      <td>eukaryota</td>\n",
       "      <td>xiphophorus_maculatus</td>\n",
       "      <td>geneidblastx</td>\n",
       "      <td>20775</td>\n",
       "      <td>Complete</td>\n",
       "      <td>49.5</td>\n",
       "      <td>8083</td>\n",
       "      <td>0.495</td>\n",
       "      <td>Xiphophorus maculatus</td>\n",
       "    </tr>\n",
       "    <tr>\n",
       "      <th>619</th>\n",
       "      <td>619</td>\n",
       "      <td>3354</td>\n",
       "      <td>eukaryota</td>\n",
       "      <td>zalophus_californianus</td>\n",
       "      <td>geneidblastx</td>\n",
       "      <td>23768</td>\n",
       "      <td>Complete</td>\n",
       "      <td>64.9</td>\n",
       "      <td>9704</td>\n",
       "      <td>0.649</td>\n",
       "      <td>Zalophus californianus</td>\n",
       "    </tr>\n",
       "    <tr>\n",
       "      <th>625</th>\n",
       "      <td>625</td>\n",
       "      <td>3354</td>\n",
       "      <td>eukaryota</td>\n",
       "      <td>zosterops_lateralis_melanops</td>\n",
       "      <td>geneidblastx</td>\n",
       "      <td>12357</td>\n",
       "      <td>Complete</td>\n",
       "      <td>46.0</td>\n",
       "      <td>1220523</td>\n",
       "      <td>0.460</td>\n",
       "      <td>Zosterops lateralis melanops</td>\n",
       "    </tr>\n",
       "  </tbody>\n",
       "</table>\n",
       "<p>105 rows × 11 columns</p>\n",
       "</div>"
      ],
      "text/plain": [
       "     Unnamed: 0  n_markers     domain                       species  \\\n",
       "1             1       3354  eukaryota            amphiprion_percula   \n",
       "7             7       3354  eukaryota            anabas_testudineus   \n",
       "13           13       3354  eukaryota            anas_platyrhynchos   \n",
       "19           19       3354  eukaryota          anser_brachyrhynchus   \n",
       "25           25       3354  eukaryota               anser_cygnoides   \n",
       "..          ...        ...        ...                           ...   \n",
       "601         601       3354  eukaryota           varanus_komodoensis   \n",
       "607         607       3354  eukaryota        xiphophorus_couchianus   \n",
       "613         613       3354  eukaryota         xiphophorus_maculatus   \n",
       "619         619       3354  eukaryota        zalophus_californianus   \n",
       "625         625       3354  eukaryota  zosterops_lateralis_melanops   \n",
       "\n",
       "             tool  gene_count BUSCO_tag  percentage  taxonID  score  \\\n",
       "1    geneidblastx       21336  Complete        52.9   161767  0.529   \n",
       "7    geneidblastx       17856  Complete        50.3    64144  0.503   \n",
       "13   geneidblastx       16814  Complete        51.6     8839  0.516   \n",
       "19   geneidblastx       14254  Complete        58.5   132585  0.585   \n",
       "25   geneidblastx       14172  Complete        57.6     8845  0.576   \n",
       "..            ...         ...       ...         ...      ...    ...   \n",
       "601  geneidblastx       17734  Complete        58.9    61221  0.589   \n",
       "607  geneidblastx       18227  Complete        40.9    32473  0.409   \n",
       "613  geneidblastx       20775  Complete        49.5     8083  0.495   \n",
       "619  geneidblastx       23768  Complete        64.9     9704  0.649   \n",
       "625  geneidblastx       12357  Complete        46.0  1220523  0.460   \n",
       "\n",
       "                    species_space  \n",
       "1              Amphiprion percula  \n",
       "7              Anabas testudineus  \n",
       "13             Anas platyrhynchos  \n",
       "19           Anser brachyrhynchus  \n",
       "25                Anser cygnoides  \n",
       "..                            ...  \n",
       "601           Varanus komodoensis  \n",
       "607        Xiphophorus couchianus  \n",
       "613         Xiphophorus maculatus  \n",
       "619        Zalophus californianus  \n",
       "625  Zosterops lateralis melanops  \n",
       "\n",
       "[105 rows x 11 columns]"
      ]
     },
     "execution_count": 58,
     "metadata": {},
     "output_type": "execute_result"
    }
   ],
   "source": [
    "df[(df['tool']=='geneidblastx')&(df['BUSCO_tag']=='Complete')]"
   ]
  },
  {
   "cell_type": "code",
   "execution_count": 60,
   "metadata": {},
   "outputs": [],
   "source": [
    "columns_iwant = ['species','taxonID','score','species_space']\n",
    "export_df = df[(df['tool']=='geneidblastx')&(df['BUSCO_tag']=='Complete')][columns_iwant]"
   ]
  },
  {
   "cell_type": "code",
   "execution_count": 65,
   "metadata": {},
   "outputs": [],
   "source": [
    "export_df.to_csv('../results/geneidx_score_id.csv',index=False)"
   ]
  },
  {
   "cell_type": "code",
   "execution_count": null,
   "metadata": {},
   "outputs": [],
   "source": []
  },
  {
   "cell_type": "code",
   "execution_count": 67,
   "metadata": {},
   "outputs": [],
   "source": [
    "columns_iwant = ['species','taxonID','score','species_space']\n",
    "export_df = df[(df['tool']=='geneid')&(df['BUSCO_tag']=='Complete')][columns_iwant]"
   ]
  },
  {
   "cell_type": "code",
   "execution_count": 68,
   "metadata": {},
   "outputs": [],
   "source": [
    "export_df.to_csv('../results/geneid_score_id.csv',index=False)"
   ]
  },
  {
   "cell_type": "code",
   "execution_count": null,
   "metadata": {},
   "outputs": [],
   "source": []
  }
 ],
 "metadata": {
  "kernelspec": {
   "display_name": "Python 3",
   "language": "python",
   "name": "python3"
  },
  "language_info": {
   "codemirror_mode": {
    "name": "ipython",
    "version": 3
   },
   "file_extension": ".py",
   "mimetype": "text/x-python",
   "name": "python",
   "nbconvert_exporter": "python",
   "pygments_lexer": "ipython3",
   "version": "3.7.3"
  }
 },
 "nbformat": 4,
 "nbformat_minor": 2
}
