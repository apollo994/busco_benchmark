{
 "cells": [
  {
   "cell_type": "markdown",
   "metadata": {},
   "source": [
    "This notebook is to run geneid on the ebh species. "
   ]
  },
  {
   "cell_type": "code",
   "execution_count": 13,
   "metadata": {},
   "outputs": [],
   "source": [
    "# paramter files\n",
    "\n",
    "species_dict = {\n",
    "    \n",
    "    'Trifolium_dubium' : {'par' :'/users/rg/fzanarello/software/geneid/param/Phaseolus_vulgaris.3885.param',\n",
    "                        'gen' : '/users/rg/fzanarello/projects/geneidx/ebh23/genomes_gunzipped/GCA_951804385.1_drTriDubi3.1_genomic-masked.fa'},\n",
    "    \n",
    "    'Homo_sapiens' : {'par' :'/users/rg/fzanarello/software/geneid/param/Homo_sapiens.9606.param',\n",
    "                    'gen' : '/users/rg/fzanarello/projects/geneidx/ebh23/genomes_gunzipped/Homo_sapiens.GRCh38.dna_rm.chrom19.fa'},\n",
    "    \n",
    "    'Drosophila_melanogaster' : {'par' :'/users/rg/fzanarello/software/geneid/param/Drosophila_melanogaster.7227.param',\n",
    "                               'gen' : '/users/rg/fzanarello/projects/geneidx/ebh23/genomes_gunzipped/dmel-all-chromosome-r6.54.masked.fa'},\n",
    "    \n",
    "    'Helleia_helle' : {'par' :'/users/rg/fzanarello/software/geneid/param/Dinoponera_longipes.609292.param',\n",
    "                     'gen' : '/users/rg/fzanarello/projects/geneidx/ebh23/genomes_gunzipped/ilHelHell1.1.scaffolds.masked.cnag1.fa'},\n",
    "    \n",
    "    'Phakellia_ventilabrum' : {'par' :'/users/rg/fzanarello/software/geneid/param/Dinoponera_longipes.609292.param',\n",
    "                             'gen' : '/users/rg/fzanarello/projects/geneidx/ebh23/genomes_gunzipped/odPhaVent1.pri.cur.20230712.masked.cnag1.fa'},\n",
    "    \n",
    "    'Pocillopora_meandrina' : {'par' :'/users/rg/fzanarello/software/geneid/param/Dinoponera_longipes.609292.param',\n",
    "                             'gen' : '/users/rg/fzanarello/projects/geneidx/ebh23/genomes_gunzipped/Pocillopora_meandrina.masked.fa'}   \n",
    "    \n",
    "    \n",
    "}\n"
   ]
  },
  {
   "cell_type": "code",
   "execution_count": 27,
   "metadata": {},
   "outputs": [],
   "source": [
    "with open('../array_commands/geneid_on_ebh.txt', 'w') as out:\n",
    "\n",
    "    for species in species_dict:\n",
    "\n",
    "        param_file = species_dict[species]['par']\n",
    "        genome = species_dict[species]['gen']\n",
    "\n",
    "        geneid_path = '/users/rg/fzanarello/software/geneid/bin/geneid'\n",
    "        output_file = f'/users/rg/fzanarello/projects/geneidx/ebh23/results/geneid/{species}_geneid.gff3'\n",
    "\n",
    "        command = f'{geneid_path} -3P {param_file} {genome} > {output_file} \\n'\n",
    "\n",
    "        out.write(command)"
   ]
  },
  {
   "cell_type": "code",
   "execution_count": 28,
   "metadata": {},
   "outputs": [
    {
     "name": "stdout",
     "output_type": "stream",
     "text": [
      "/users/rg/fzanarello/software/geneid/bin/geneid -3P /users/rg/fzanarello/software/geneid/param/Phaseolus_vulgaris.3885.param /users/rg/fzanarello/projects/geneidx/ebh23/genomes_gunzipped/GCA_951804385.1_drTriDubi3.1_genomic-masked.fa > /users/rg/fzanarello/projects/geneidx/ebh23/results/geneid/Trifolium_dubium_geneid.gff3 \r\n",
      "/users/rg/fzanarello/software/geneid/bin/geneid -3P /users/rg/fzanarello/software/geneid/param/Homo_sapiens.9606.param /users/rg/fzanarello/projects/geneidx/ebh23/genomes_gunzipped/Homo_sapiens.GRCh38.dna_rm.chrom19.fa > /users/rg/fzanarello/projects/geneidx/ebh23/results/geneid/Homo_sapiens_geneid.gff3 \r\n",
      "/users/rg/fzanarello/software/geneid/bin/geneid -3P /users/rg/fzanarello/software/geneid/param/Drosophila_melanogaster.7227.param /users/rg/fzanarello/projects/geneidx/ebh23/genomes_gunzipped/dmel-all-chromosome-r6.54.masked.fa > /users/rg/fzanarello/projects/geneidx/ebh23/results/geneid/Drosophila_melanogaster_geneid.gff3 \r\n",
      "/users/rg/fzanarello/software/geneid/bin/geneid -3P /users/rg/fzanarello/software/geneid/param/Dinoponera_longipes.609292.param /users/rg/fzanarello/projects/geneidx/ebh23/genomes_gunzipped/ilHelHell1.1.scaffolds.masked.cnag1.fa > /users/rg/fzanarello/projects/geneidx/ebh23/results/geneid/Helleia_helle_geneid.gff3 \r\n",
      "/users/rg/fzanarello/software/geneid/bin/geneid -3P /users/rg/fzanarello/software/geneid/param/Dinoponera_longipes.609292.param /users/rg/fzanarello/projects/geneidx/ebh23/genomes_gunzipped/odPhaVent1.pri.cur.20230712.masked.cnag1.fa > /users/rg/fzanarello/projects/geneidx/ebh23/results/geneid/Phakellia_ventilabrum_geneid.gff3 \r\n",
      "/users/rg/fzanarello/software/geneid/bin/geneid -3P /users/rg/fzanarello/software/geneid/param/Dinoponera_longipes.609292.param /users/rg/fzanarello/projects/geneidx/ebh23/genomes_gunzipped/Pocillopora_meandrina.masked.fa > /users/rg/fzanarello/projects/geneidx/ebh23/results/geneid/Pocillopora_meandrina_geneid.gff3 \r\n"
     ]
    }
   ],
   "source": [
    "cat ../array_commands/geneid_on_ebh.txt"
   ]
  },
  {
   "cell_type": "code",
   "execution_count": null,
   "metadata": {},
   "outputs": [],
   "source": []
  }
 ],
 "metadata": {
  "kernelspec": {
   "display_name": "Python 3",
   "language": "python",
   "name": "python3"
  },
  "language_info": {
   "codemirror_mode": {
    "name": "ipython",
    "version": 3
   },
   "file_extension": ".py",
   "mimetype": "text/x-python",
   "name": "python",
   "nbconvert_exporter": "python",
   "pygments_lexer": "ipython3",
   "version": "3.7.3"
  }
 },
 "nbformat": 4,
 "nbformat_minor": 2
}
