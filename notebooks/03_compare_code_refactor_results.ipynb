{
 "cells": [
  {
   "cell_type": "code",
   "execution_count": 1,
   "metadata": {},
   "outputs": [],
   "source": [
    "import os\n",
    "import subprocess"
   ]
  },
  {
   "cell_type": "markdown",
   "metadata": {},
   "source": [
    "This notebook is to compare the results obtained with code_refactor branch to the ones obtained with the privious version. I have run the following nexflow command:\n",
    "\n",
    "```\n",
    "nextflow run main.nf -resume -profile crg_hpc \\\n",
    "    --tsv /users/rg/fzanarello/test/geneidx/test_data/input_species.tsv \\\n",
    "    --column_taxid_value TAXID \\\n",
    "    --column_path_value PATH \\\n",
    "    --column_id_value ID \\\n",
    "    --outdir /users/rg/fzanarello/test/geneidx/test_data/ \\\n",
    "    --use_masking false\n",
    "```"
   ]
  },
  {
   "cell_type": "code",
   "execution_count": 11,
   "metadata": {},
   "outputs": [
    {
     "name": "stdout",
     "output_type": "stream",
     "text": [
      "ID\tPATH\tTAXID\r\n",
      "Arabidopsis_thaliana\thttps://ftp.ensemblgenomes.ebi.ac.uk/pub/plants/release-57/fasta/arabidopsis_thaliana/dna/Arabidopsis_thaliana.TAIR10.dna_rm.toplevel.fa.gz\t3702\r\n",
      "Betta_splendens\t/users/rg/fzanarello/test/geneidx/test_data/Betta_splendens.fBetSpl5.2.dna_rm.toplevel.fa.gz\t158456\r\n"
     ]
    }
   ],
   "source": [
    "# input file\n",
    "! cat /users/rg/fzanarello/test/geneidx/test_data/input_species.tsv"
   ]
  },
  {
   "cell_type": "markdown",
   "metadata": {},
   "source": [
    "This was to test the possibility of running GeneIdX from a reference genome from url.  \n",
    "The comparison below only referes to Betta splendens as no previous run for Arabidopsis are available. "
   ]
  },
  {
   "cell_type": "markdown",
   "metadata": {},
   "source": [
    "### To extract protein seq from fasta and annotation "
   ]
  },
  {
   "cell_type": "code",
   "execution_count": 2,
   "metadata": {},
   "outputs": [
    {
     "name": "stdout",
     "output_type": "stream",
     "text": [
      "#!/bin/bash\r\n",
      "\r\n",
      "#check for input arguments\r\n",
      " \r\n",
      "function check_args() {\r\n",
      "  if [ $# -ne 3 ]; then\r\n",
      "    echo \"Error: Exactly 3 arguments required!\"\r\n",
      "    return 1\r\n",
      "  fi\r\n",
      "  \r\n",
      "  echo \"gff: $1\"\r\n",
      "  echo \"reference: $2\"\r\n",
      "  echo \"output dir: $3\"\r\n",
      "}\r\n",
      " \r\n",
      "check_args $1 $2 $3\r\n",
      "\r\n",
      "file_name=$(basename -s .gff3 $1)\r\n",
      "file_path=$(echo ${3}${file_name}.protein.fa)\r\n",
      "\r\n",
      "\r\n",
      "# make result folder if not already exists\r\n",
      "mkdir -p $3\r\n",
      "\r\n",
      "echo 'Result file will be saved as: '$file_path\r\n",
      "\r\n",
      "\r\n",
      "# run agtc singularity \r\n",
      "singularity run /nfs/users/rg/fzanarello/images/agat-1.2.0--pl5321hdfd78af_0.simg agat_sp_extract_sequences.pl -f $2 -g $1 -t cds -p -o $file_path\r\n"
     ]
    }
   ],
   "source": [
    "# will use this script to run agtc command \n",
    "! cat ../scripts/get_protein_from_gff.sh"
   ]
  },
  {
   "cell_type": "code",
   "execution_count": 10,
   "metadata": {},
   "outputs": [
    {
     "name": "stdout",
     "output_type": "stream",
     "text": [
      "/nfs/users/rg/fzanarello/projects/busco_benchmark/genomes/Betta_splendens.fBetSpl5.2.dna_rm.toplevel.fa\r\n",
      "/nfs/users/rg/fzanarello/projects/busco_benchmark/genomes/Betta_splendens.fBetSpl5.2.dna_rm.toplevel.fa.index\r\n"
     ]
    }
   ],
   "source": [
    "! ls /nfs/users/rg/fzanarello/projects/busco_benchmark/genomes/Betta*"
   ]
  },
  {
   "cell_type": "code",
   "execution_count": 13,
   "metadata": {},
   "outputs": [],
   "source": [
    "gff = '/users/rg/fzanarello/test/geneidx/output/species/158456/Betta_splendens.gff3'\n",
    "ref = '/nfs/users/rg/fzanarello/projects/busco_benchmark/genomes/Betta_splendens.fBetSpl5.2.dna_rm.toplevel.fa'\n",
    "out_folder = '/users/rg/fzanarello/test/geneidx/output/species/158456/proteins'\n",
    "\n",
    "with open ('../array_commands/extract_protein_coderef_test.txt', 'w') as out:\n",
    "    out.write(f'/nfs/users/rg/fzanarello/projects/busco_benchmark/scripts/get_protein_from_gff.sh {gff} {ref} {out_folder} \\n')  "
   ]
  },
  {
   "cell_type": "code",
   "execution_count": 14,
   "metadata": {},
   "outputs": [
    {
     "name": "stdout",
     "output_type": "stream",
     "text": [
      "/nfs/users/rg/fzanarello/projects/busco_benchmark/scripts/get_protein_from_gff.sh /users/rg/fzanarello/test/geneidx/output/species/158456/Betta_splendens.gff3 /nfs/users/rg/fzanarello/projects/busco_benchmark/genomes/Betta_splendens.fBetSpl5.2.dna_rm.toplevel.fa /users/rg/fzanarello/test/geneidx/output/species/158456/proteins \r\n"
     ]
    }
   ],
   "source": [
    "cat ../array_commands/extract_protein_coderef_test.txt"
   ]
  },
  {
   "cell_type": "markdown",
   "metadata": {},
   "source": [
    "### To Run BUSCO"
   ]
  },
  {
   "cell_type": "code",
   "execution_count": 1,
   "metadata": {
    "scrolled": false
   },
   "outputs": [
    {
     "name": "stdout",
     "output_type": "stream",
     "text": [
      "#!/bin/bash\r\n",
      "\r\n",
      "#check for input arguments\r\n",
      " \r\n",
      "function check_args() {\r\n",
      "  if [ $# -ne 3 ]; then\r\n",
      "    echo \"Error: Exactly 3 arguments required!\"\r\n",
      "    return 1\r\n",
      "  fi\r\n",
      "  \r\n",
      "  echo \"protein_sequence: $1\"\r\n",
      "  echo \"ortho_db: $2\"\r\n",
      "  echo \"output dir: $3\"\r\n",
      "}\r\n",
      " \r\n",
      "check_args $1 $2 $3\r\n",
      "\r\n",
      "\r\n",
      "singularity run /nfs/users/rg/fzanarello/images/busco-v5.5.0_cv1.simg busco -m protein -i $1 -l $2 -o $3"
     ]
    }
   ],
   "source": [
    "! cat ../scripts/run_busco_from_protein.sh"
   ]
  },
  {
   "cell_type": "code",
   "execution_count": 19,
   "metadata": {},
   "outputs": [],
   "source": [
    "annotation = '/users/rg/fzanarello/test/geneidx/output/species/158456/proteinsBetta_splendens.protein.fa'\n",
    "ortho_db = 'vertebrata_odb10'\n",
    "out_folder = '/users/rg/fzanarello/test/geneidx/output/species/158456/busco'\n",
    "\n",
    "with open ('../array_commands/busco_from_protein_refcode_test.txt', 'w') as out:\n",
    "    out.write(f'/nfs/users/rg/fzanarello/projects/busco_benchmark/scripts/run_busco_from_protein.sh {annotation} {ortho_db} {out_folder} \\n')"
   ]
  },
  {
   "cell_type": "code",
   "execution_count": 20,
   "metadata": {},
   "outputs": [
    {
     "name": "stdout",
     "output_type": "stream",
     "text": [
      "/nfs/users/rg/fzanarello/projects/busco_benchmark/scripts/run_busco_from_protein.sh /users/rg/fzanarello/test/geneidx/output/species/158456/proteinsBetta_splendens.protein.fa vertebrata_odb10 /users/rg/fzanarello/test/geneidx/output/species/158456/busco \r\n"
     ]
    }
   ],
   "source": [
    "! cat ../array_commands/busco_from_protein_refcode_test.txt"
   ]
  },
  {
   "cell_type": "code",
   "execution_count": null,
   "metadata": {},
   "outputs": [],
   "source": []
  }
 ],
 "metadata": {
  "kernelspec": {
   "display_name": "Python 3",
   "language": "python",
   "name": "python3"
  },
  "language_info": {
   "codemirror_mode": {
    "name": "ipython",
    "version": 3
   },
   "file_extension": ".py",
   "mimetype": "text/x-python",
   "name": "python",
   "nbconvert_exporter": "python",
   "pygments_lexer": "ipython3",
   "version": "3.7.3"
  }
 },
 "nbformat": 4,
 "nbformat_minor": 2
}
